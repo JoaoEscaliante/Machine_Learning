{
 "cells": [
  {
   "cell_type": "markdown",
   "metadata": {},
   "source": [
    "Lúcio começou a estudar sobre aprendizado de máquina (machine learning) na Alura para, no futuro, trabalhar como analista de dados. Ele aprendeu que, para que o aprendizado da máquina seja eficiente, é necessário treinar o algoritmo em uma determinada ordem.\n",
    "\n",
    "Qual é a ordem correta para treinar o algoritmo?"
   ]
  },
  {
   "cell_type": "markdown",
   "metadata": {},
   "source": [
    "- R correta: Definir um modelo de treino, definir uma lista com dados para treino e dados com os resultados esperados, treinar com base na lista de dados e nos resultados esperados.\n",
    "\n",
    "(Com a definição do modelo para treino e com as listas de dados para treino e para teste, nós conseguimos efetuar o treinamento.)\n",
    "\n",
    "Respostas erradas:\n",
    "Definir um modelo de treino, definir uma lista com dados aleatórios, treinar com base na lista de dados. (Caso você faça nessa ordem, o algoritmo não vai conseguir treinar, pois faltam os dados para treino e os dados para teste.)\n",
    "\n",
    "Definir um modelo de teste, definir uma lista com dados e dados para treino, implementar uma lista de 1 até 10 com valores aleatórios, nos dados para treino. No fim será mostrado o resultado esperado (Caso você opte utilizar uma lista com dados para treino no valor de 0 até 10 com valores aleatórios, o algoritmo nem sempre vai ter um valor aleatório, pois não vai ter um padrão para ele conseguir calcular, e devemos utilizar um modelo para treino e não para teste como mostra a alternativa.)"
   ]
  }
 ],
 "metadata": {
  "language_info": {
   "name": "python"
  }
 },
 "nbformat": 4,
 "nbformat_minor": 2
}
